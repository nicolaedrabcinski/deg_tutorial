{
 "cells": [
  {
   "cell_type": "code",
   "execution_count": null,
   "metadata": {},
   "outputs": [],
   "source": [
    "import os\n",
    "import subprocess\n",
    "import requests\n",
    "import pandas as pd\n",
    "import numpy as np\n",
    "import matplotlib.pyplot as plt\n",
    "import seaborn as sns\n",
    "\n",
    "from mygene import MyGeneInfo\n",
    "\n",
    "from pydeseq2.dds import DeseqDataSet\n",
    "from pydeseq2.ds import DeseqStats\n",
    "\n",
    "from sklearn.decomposition import PCA\n",
    "\n",
    "from pathlib import Path"
   ]
  },
  {
   "cell_type": "code",
   "execution_count": null,
   "metadata": {},
   "outputs": [],
   "source": [
    "WORK_DIR = Path.cwd().absolute()\n",
    "WORK_DIR"
   ]
  },
  {
   "cell_type": "code",
   "execution_count": null,
   "metadata": {},
   "outputs": [],
   "source": [
    "SALMON_IMAGE = \"combinelab/salmon:1.10.0\""
   ]
  },
  {
   "cell_type": "code",
   "execution_count": null,
   "metadata": {},
   "outputs": [],
   "source": [
    "# SAMPLES = [\n",
    "#     \"SRR16243477\", \"SRR16243498\", \"SRR16243497\",  # Control\n",
    "#     \"SRR16243483\", \"SRR16243482\", \"SRR16243481\"   # Treatment\n",
    "# ]\n",
    "\n",
    "SAMPLES = [\n",
    "    \"SRR13416176\", \"SRR13416177\", \"SRR13416178\",  # CAMT-1\n",
    "    \"SRR13416172\", \"SRR13416173\", \"SRR13416174\"   # WT\n",
    "]"
   ]
  },
  {
   "cell_type": "markdown",
   "metadata": {},
   "source": [
    "Download a reference transcriptome for **C.elegans**"
   ]
  },
  {
   "cell_type": "code",
   "execution_count": null,
   "metadata": {},
   "outputs": [],
   "source": [
    "C_ELEGANS_URL = \"https://hgdownload.soe.ucsc.edu/gbdb/ce11/ncbiRefSeq/seqNcbiRefSeq.rna.fa\""
   ]
  },
  {
   "cell_type": "code",
   "execution_count": null,
   "metadata": {},
   "outputs": [],
   "source": [
    "fa_path = WORK_DIR / \"c_elegans.fa\"\n",
    "\n",
    "if not fa_path.exists():\n",
    "    print(\"Downloading reference transcriptome ...\")\n",
    "    r = requests.get(url, stream=True)\n",
    "\n",
    "    with open(fa_path, \"wb\") as f:\n",
    "        for chunk in r.iter_content(chunk_size=256*1024):\n",
    "            f.write(chunk)"
   ]
  },
  {
   "cell_type": "markdown",
   "metadata": {},
   "source": [
    "Creating Salmon index"
   ]
  },
  {
   "cell_type": "code",
   "execution_count": null,
   "metadata": {},
   "outputs": [],
   "source": [
    "S_INDEX = \"salmon_index\"\n",
    "\n",
    "if not (WORK_DIR / S_INDEX).exists():\n",
    "    print(\"Creating Salmon index ...\")\n",
    "\n",
    "    subprocess.run([\n",
    "        \"docker\", \"run\", \"--rm\",\n",
    "        \"-v\", f\"{WORK_DIR}:/data\",\n",
    "        SALMON_IMAGE,\n",
    "        \"salmon\", \"index\",\n",
    "        \"-t\", \"/data/c_elegans.fa\",\n",
    "        \"-i\", \"/data/salmon_index\"\n",
    "    ], check=True)"
   ]
  },
  {
   "cell_type": "markdown",
   "metadata": {},
   "source": [
    "Download the RNA-Seq reads"
   ]
  },
  {
   "cell_type": "code",
   "execution_count": null,
   "metadata": {},
   "outputs": [],
   "source": [
    "for sra_id in SAMPLES:\n",
    "    sra_file = WORK_DIR / f\"{sra_id}.sra\"\n",
    "    if not sra_file.exists():\n",
    "        print(f\"Скачиваем {sra_id}...\")\n",
    "        subprocess.run([\"prefetch\", sra_id], check=True)"
   ]
  },
  {
   "cell_type": "markdown",
   "metadata": {},
   "source": [
    "Converting .sra to .fastq"
   ]
  },
  {
   "cell_type": "code",
   "execution_count": null,
   "metadata": {},
   "outputs": [],
   "source": [
    "for sra_id in SAMPLES:\n",
    "    print(f\"Конвертируем {sra_id} в FASTQ...\")\n",
    "    subprocess.run([\n",
    "        \"docker\", \"run\", \"--rm\",\n",
    "        \"-v\", f\"{WORK_DIR}:/data\",\n",
    "        \"ncbi/sra-tools:3.0.0\",\n",
    "        \"fasterq-dump\",\n",
    "        f\"/data/{sra_id}\",\n",
    "        \"-O\", \"/data\",\n",
    "        \"--force\",\n",
    "        \"--threads\", \"32\"\n",
    "    ], check=True)"
   ]
  },
  {
   "cell_type": "markdown",
   "metadata": {},
   "source": [
    "Quantify transcript expression with `salmon quant`"
   ]
  },
  {
   "cell_type": "code",
   "execution_count": null,
   "metadata": {},
   "outputs": [],
   "source": [
    "for fq in WORK_DIR.glob(\"*.fastq\"):\n",
    "    print(f\"Обработка {fq.name}...\")\n",
    "    subprocess.run([\n",
    "        \"docker\", \"run\", \"--rm\",\n",
    "        \"-v\", f\"{WORK_DIR}:/data\",\n",
    "        SALMON_IMAGE,\n",
    "        \"salmon\", \"quant\",\n",
    "        \"-i\", \"/data/salmon_index\",\n",
    "        \"-l\", \"A\",\n",
    "        \"-r\", f\"/data/{fq.name}\",\n",
    "        \"--validateMappings\",\n",
    "        \"-o\", f\"/data/quants/{fq.stem}\"\n",
    "    ], check=True)"
   ]
  },
  {
   "cell_type": "markdown",
   "metadata": {},
   "source": [
    "Create a metadata dataframe to label the RNA-Seq `quant.sf` files"
   ]
  },
  {
   "cell_type": "code",
   "execution_count": null,
   "metadata": {},
   "outputs": [],
   "source": [
    "counts = pd.DataFrame()\n",
    "\n",
    "# Загружаем данные для каждого образца\n",
    "for sample in SAMPLES:\n",
    "    quant_file = WORK_DIR / \"quants\" / sample / \"quant.sf\"\n",
    "    df = pd.read_csv(quant_file, sep=\"\\t\", usecols=[\"Name\", \"NumReads\"])\n",
    "    counts[sample] = df.set_index(\"Name\")[\"NumReads\"]"
   ]
  },
  {
   "cell_type": "code",
   "execution_count": null,
   "metadata": {},
   "outputs": [],
   "source": [
    "counts = counts.fillna(0).astype(int).T\n",
    "counts"
   ]
  },
  {
   "cell_type": "markdown",
   "metadata": {},
   "source": [
    "Differential Expression Analysis"
   ]
  },
  {
   "cell_type": "code",
   "execution_count": null,
   "metadata": {},
   "outputs": [],
   "source": [
    "metadata = pd.DataFrame({\n",
    "    \"condition\": [\"Control\"]*3 + [\"Treatment\"]*3\n",
    "}, index=SAMPLES)\n",
    "\n",
    "metadata"
   ]
  },
  {
   "cell_type": "code",
   "execution_count": null,
   "metadata": {},
   "outputs": [],
   "source": [
    "dds = DeseqDataSet(\n",
    "    counts=counts,\n",
    "    metadata=metadata,\n",
    "    design_factors=[\"condition\"],\n",
    "    n_cpus=32\n",
    ")"
   ]
  },
  {
   "cell_type": "code",
   "execution_count": null,
   "metadata": {},
   "outputs": [],
   "source": [
    "dds.deseq2()"
   ]
  },
  {
   "cell_type": "code",
   "execution_count": null,
   "metadata": {},
   "outputs": [],
   "source": [
    "stat_res = DeseqStats(dds, contrast=[\"condition\", \"Control\", \"Treatment\"])\n",
    "stat_res.summary()\n",
    "results_df = stat_res.results_df"
   ]
  },
  {
   "cell_type": "markdown",
   "metadata": {},
   "source": [
    "Gene annotation"
   ]
  },
  {
   "cell_type": "code",
   "execution_count": null,
   "metadata": {},
   "outputs": [],
   "source": [
    "mg = MyGeneInfo()\n",
    "genes = results_df.index.str.split('.').str[0].tolist()\n",
    "gene_info = mg.querymany(genes, scopes='ensembl.gene', fields='symbol', species=6239)"
   ]
  },
  {
   "cell_type": "code",
   "execution_count": null,
   "metadata": {},
   "outputs": [],
   "source": [
    "gene_dict = {}\n",
    "for info in gene_info:\n",
    "    gene_dict[info['query']] = info.get('symbol', info['query'])"
   ]
  },
  {
   "cell_type": "code",
   "execution_count": null,
   "metadata": {},
   "outputs": [],
   "source": [
    "# gene_dict"
   ]
  },
  {
   "cell_type": "code",
   "execution_count": null,
   "metadata": {},
   "outputs": [],
   "source": [
    "results_df['symbol'] = results_df.index.map(lambda x: gene_dict.get(x.split('.')[0], x))"
   ]
  },
  {
   "cell_type": "code",
   "execution_count": null,
   "metadata": {},
   "outputs": [],
   "source": [
    "results_df"
   ]
  },
  {
   "cell_type": "code",
   "execution_count": null,
   "metadata": {},
   "outputs": [],
   "source": [
    "# plt.style.use('seaborn')\n",
    "# matplotlib.rcParams['figure.dpi'] = 150"
   ]
  },
  {
   "cell_type": "code",
   "execution_count": null,
   "metadata": {},
   "outputs": [],
   "source": [
    "results_df.columns"
   ]
  },
  {
   "cell_type": "code",
   "execution_count": null,
   "metadata": {},
   "outputs": [],
   "source": [
    "# Создаем копию DataFrame, чтобы избежать изменений в оригинале\n",
    "df = stat_res.results_df.copy()\n",
    "\n",
    "# Логарифмируем p-value\n",
    "df[\"-log10(pvalue)\"] = -np.log10(df[\"pvalue\"])\n",
    "\n",
    "# Определяем значимость\n",
    "df[\"significance\"] = \"NS\"  # Default: незначимые гены\n",
    "df.loc[(df[\"pvalue\"] < 1e-6) & (abs(df[\"log2FoldChange\"]) > 1), \"significance\"] = \"p-value and log2 FC\"\n",
    "df.loc[(df[\"pvalue\"] < 1e-6) & (abs(df[\"log2FoldChange\"]) <= 1), \"significance\"] = \"p-value\"\n",
    "df.loc[(df[\"pvalue\"] >= 1e-6) & (abs(df[\"log2FoldChange\"]) > 1), \"significance\"] = \"Log2 FC\"\n",
    "\n",
    "# Определяем цвета как в R\n",
    "colors = {\n",
    "    \"NS\": \"gray\",\n",
    "    \"Log2 FC\": \"blue\",\n",
    "    \"p-value\": \"purple\",\n",
    "    \"p-value and log2 FC\": \"red\"\n",
    "}\n",
    "\n",
    "# Создаем фигуру\n",
    "plt.figure(figsize=(9, 9))\n",
    "sns.scatterplot(\n",
    "    x=df[\"log2FoldChange\"],\n",
    "    y=df[\"-log10(pvalue)\"],\n",
    "    hue=df[\"significance\"],\n",
    "    palette=colors,\n",
    "    edgecolor=None,\n",
    "    alpha=0.7\n",
    ")\n",
    "\n",
    "# Добавляем вертикальные и горизонтальную линии\n",
    "plt.axhline(y=-np.log10(1e-6), color=\"black\", linestyle=\"--\")\n",
    "plt.axvline(x=-1, color=\"black\", linestyle=\"--\")\n",
    "plt.axvline(x=1, color=\"black\", linestyle=\"--\")\n",
    "\n",
    "# Добавляем подписи для самых значимых генов\n",
    "top_genes = df[df[\"significance\"] == \"p-value and log2 FC\"].nlargest(30, \"-log10(pvalue)\")\n",
    "for i, row in top_genes.iterrows():\n",
    "    plt.text(row[\"log2FoldChange\"], row[\"-log10(pvalue)\"], row.name,\n",
    "             fontsize=8, ha=\"right\" if row[\"log2FoldChange\"] < 0 else \"left\")\n",
    "\n",
    "# Подписи осей\n",
    "plt.xlabel(r\"$Log_2$ fold change\")\n",
    "plt.ylabel(r\"$-Log_{10} P$\")\n",
    "plt.title(\"Volcano plot\")\n",
    "\n",
    "# Легенда\n",
    "plt.legend(title=\"Significance\", loc=\"upper right\")\n",
    "\n",
    "# Сохранение графика\n",
    "plt.savefig(\"volcanoPlot.png\", dpi=300, bbox_inches=\"tight\")\n",
    "plt.show()"
   ]
  },
  {
   "cell_type": "code",
   "execution_count": null,
   "metadata": {},
   "outputs": [],
   "source": [
    "import matplotlib.pyplot as plt\n",
    "import seaborn as sns\n",
    "import numpy as np\n",
    "\n",
    "# Create a copy to avoid modifying the original dataframe\n",
    "df = stat_res.results_df.copy()\n",
    "\n",
    "# Compute -log10(p-value)\n",
    "df[\"-log10(pvalue)\"] = -np.log10(df[\"pvalue\"])\n",
    "\n",
    "# Define significance categories\n",
    "df[\"significance\"] = \"Not Significant\"  # Default\n",
    "df.loc[(df[\"pvalue\"] < 1e-6) & (abs(df[\"log2FoldChange\"]) > 1), \"significance\"] = \"Significant (p-value & log2 FC)\"\n",
    "df.loc[(df[\"pvalue\"] < 1e-6) & (abs(df[\"log2FoldChange\"]) <= 1), \"significance\"] = \"Significant (p-value)\"\n",
    "df.loc[(df[\"pvalue\"] >= 1e-6) & (abs(df[\"log2FoldChange\"]) > 1), \"significance\"] = \"Significant (log2 FC)\"\n",
    "\n",
    "# Define colors for categories\n",
    "colors = {\n",
    "    \"Not Significant\": \"lightgray\",\n",
    "    \"Significant (log2 FC)\": \"royalblue\",\n",
    "    \"Significant (p-value)\": \"mediumorchid\",\n",
    "    \"Significant (p-value & log2 FC)\": \"crimson\"\n",
    "}\n",
    "\n",
    "# Create figure\n",
    "plt.figure(figsize=(10, 10))\n",
    "\n",
    "# Scatter plot\n",
    "sns.scatterplot(\n",
    "    x=df[\"log2FoldChange\"],\n",
    "    y=df[\"-log10(pvalue)\"],\n",
    "    hue=df[\"significance\"],\n",
    "    palette=colors,\n",
    "    edgecolor=\"black\",\n",
    "    alpha=0.75,  # Transparency for better visualization\n",
    "    s=40  # Marker size\n",
    ")\n",
    "\n",
    "# Add threshold lines\n",
    "plt.axhline(y=-np.log10(1e-6), color=\"black\", linestyle=\"--\", linewidth=1)\n",
    "plt.axvline(x=-1, color=\"black\", linestyle=\"--\", linewidth=1)\n",
    "plt.axvline(x=1, color=\"black\", linestyle=\"--\", linewidth=1)\n",
    "\n",
    "# Label the top 20 most significant genes\n",
    "top_genes = df[df[\"significance\"] == \"Significant (p-value & log2 FC)\"].nlargest(20, \"-log10(pvalue)\")\n",
    "for i, row in top_genes.iterrows():\n",
    "    plt.text(\n",
    "        row[\"log2FoldChange\"], row[\"-log10(pvalue)\"], row.name,\n",
    "        fontsize=9, fontweight='bold',\n",
    "        ha=\"right\" if row[\"log2FoldChange\"] < 0 else \"left\",\n",
    "        bbox=dict(facecolor=\"white\", edgecolor=\"black\", boxstyle=\"round,pad=0.3\")\n",
    "    )\n",
    "\n",
    "# Labels and title\n",
    "plt.xlabel(r\"$\\log_2$ Fold Change\", fontsize=14, fontweight=\"bold\")\n",
    "plt.ylabel(r\"$-\\log_{10}$ p-value\", fontsize=14, fontweight=\"bold\")\n",
    "plt.title(\"Volcano Plot: Treatment vs. Control\", fontsize=16, fontweight=\"bold\")\n",
    "\n",
    "# Legend adjustments\n",
    "plt.legend(title=\"Significance\", loc=\"upper right\", fontsize=12, frameon=True, fancybox=True)\n",
    "\n",
    "# Save and show plot\n",
    "plt.savefig(\"volcanoPlot_scientific.png\", dpi=300, bbox_inches=\"tight\")\n",
    "plt.show()"
   ]
  },
  {
   "cell_type": "code",
   "execution_count": null,
   "metadata": {},
   "outputs": [],
   "source": [
    "import pydeseq2\n",
    "import numpy as np\n",
    "import pandas as pd\n",
    "from sklearn.decomposition import PCA\n",
    "import matplotlib.pyplot as plt\n",
    "\n",
    "# Предположим, что `dds` уже создан как объект DeseqDataSet\n",
    "\n",
    "# 1. Обязательные шаги для VST\n",
    "dds.vst_fit()  # Заменяет fit_dispersion_trend() и fit_genewise_dispersions()\n",
    "\n",
    "# 2. Применяем VST преобразование\n",
    "dst_counts = dds.vst_transform(counts=None)\n",
    "\n",
    "# Остальные шаги остаются без изменений\n",
    "dst = pd.DataFrame(dst_counts)\n",
    "pca = PCA(n_components=2)\n",
    "pca_result = pca.fit_transform(dst)\n",
    "\n",
    "condition = dds.obs['condition'].values\n",
    "pca_df = pd.DataFrame(pca_result, columns=['PC1', 'PC2'])\n",
    "pca_df['condition'] = condition\n",
    "\n",
    "plt.figure(figsize=(7, 5))\n",
    "for condition_value in pca_df['condition'].unique():\n",
    "    subset = pca_df[pca_df['condition'] == condition_value]\n",
    "    plt.scatter(subset['PC1'], subset['PC2'], label=condition_value)\n",
    "\n",
    "plt.title('PCA of Variance Stabilized Counts')\n",
    "plt.xlabel('PC1')\n",
    "plt.ylabel('PC2')\n",
    "plt.legend(title='Condition')\n",
    "plt.grid(True)\n",
    "plt.show()"
   ]
  },
  {
   "cell_type": "markdown",
   "metadata": {},
   "source": [
    "Heatmap"
   ]
  },
  {
   "cell_type": "code",
   "execution_count": null,
   "metadata": {},
   "outputs": [],
   "source": [
    "conditions = [\"Control\"] * 3 + [\"Treatment\"] * 3"
   ]
  },
  {
   "cell_type": "code",
   "execution_count": null,
   "metadata": {},
   "outputs": [],
   "source": [
    "# Выбор топ-50 генов\n",
    "top_genes = results_df.sort_values('pvalue').head(50).index\n",
    "\n",
    "# Z-score нормализация\n",
    "normalized_data = counts.T.loc[top_genes].apply(\n",
    "    lambda x: (x - x.mean())/x.std(), \n",
    "    axis=1\n",
    ")\n",
    "\n",
    "# Создание теплокарты\n",
    "plt.figure(figsize=(12, 8))\n",
    "sns.heatmap(\n",
    "    normalized_data,\n",
    "    cmap=\"coolwarm\",\n",
    "    xticklabels=conditions,\n",
    "    yticklabels=results_df.loc[top_genes, 'symbol']\n",
    ")\n",
    "\n",
    "plt.title(\"Top 50 Differentially Expressed Genes\")\n",
    "plt.xlabel(\"Sample\")\n",
    "plt.ylabel(\"Gene\")\n",
    "plt.savefig(\"heatmap.png\", bbox_inches='tight')\n",
    "plt.show()"
   ]
  },
  {
   "cell_type": "code",
   "execution_count": null,
   "metadata": {},
   "outputs": [],
   "source": []
  }
 ],
 "metadata": {
  "kernelspec": {
   "display_name": "deg_tutorial",
   "language": "python",
   "name": "python3"
  },
  "language_info": {
   "codemirror_mode": {
    "name": "ipython",
    "version": 3
   },
   "file_extension": ".py",
   "mimetype": "text/x-python",
   "name": "python",
   "nbconvert_exporter": "python",
   "pygments_lexer": "ipython3",
   "version": "3.9.21"
  }
 },
 "nbformat": 4,
 "nbformat_minor": 2
}
